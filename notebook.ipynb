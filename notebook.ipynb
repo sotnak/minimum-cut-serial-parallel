{
 "cells": [
  {
   "cell_type": "code",
   "execution_count": 17,
   "metadata": {},
   "outputs": [],
   "source": [
    "import itertools\n",
    "\n",
    "sizes = [10]\n",
    "instances = [\"5\", \"6b\", \"7\"]\n",
    "sets = ['IN']\n",
    "solvers = ['bb']"
   ]
  },
  {
   "cell_type": "code",
   "execution_count": 18,
   "metadata": {},
   "outputs": [
    {
     "name": "stdout",
     "output_type": "stream",
     "text": [
      "./IN/graf_10_5.txt\n",
      "./IN/graf_10_6b.txt\n",
      "./IN/graf_10_7.txt\n"
     ]
    }
   ],
   "source": [
    "for (size, selected_set, instance) in itertools.product(sizes, sets, instances):\n",
    "    !echo \"./{selected_set}/graf_{size}_{instance}.txt\"\n",
    "    _return_val = !cmake-build-debug/pdp --source \"./{selected_set}/graf_{size}_{instance}.txt\""
   ]
  }
 ],
 "metadata": {
  "interpreter": {
   "hash": "916dbcbb3f70747c44a77c7bcd40155683ae19c65e1c03b4aa3499c5328201f1"
  },
  "kernelspec": {
   "display_name": "Python 3.8.10 64-bit",
   "name": "python3"
  },
  "language_info": {
   "codemirror_mode": {
    "name": "ipython",
    "version": 3
   },
   "file_extension": ".py",
   "mimetype": "text/x-python",
   "name": "python",
   "nbconvert_exporter": "python",
   "pygments_lexer": "ipython3",
   "version": "3.8.10"
  }
 },
 "nbformat": 4,
 "nbformat_minor": 5
}
