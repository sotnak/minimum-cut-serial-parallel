{
 "cells": [
  {
   "cell_type": "code",
   "execution_count": 4,
   "metadata": {},
   "outputs": [],
   "source": [
    "sets = [\n",
    "    {\"size\":10, \"instances\": [\"5\", \"6b\", \"7\"]},\n",
    "    {\"size\":15, \"instances\": [\"14\"]},\n",
    "    {\"size\":20, \"instances\": [\"7\", \"12\", \"17\"]},\n",
    "    {\"size\":30, \"instances\": [\"10\", \"20\"]},\n",
    "\n",
    "    #{\"size\":20, \"instances\": [\"7\"]},\n",
    "    #{\"size\":40, \"instances\": [\"8\", \"15\", \"25\"]}\n",
    "]"
   ]
  },
  {
   "cell_type": "code",
   "execution_count": 5,
   "metadata": {},
   "outputs": [
    {
     "name": "stdout",
     "output_type": "stream",
     "text": [
      "./IN/graf_10_5.txt\n",
      "total time: 6.8812e-05\n",
      "./IN/graf_10_6b.txt\n",
      "total time: 0.000110037\n",
      "./IN/graf_10_7.txt\n",
      "total time: 0.000185468\n",
      "./IN/graf_15_14.txt\n",
      "total time: 0.00401634\n",
      "./IN/graf_20_7.txt\n",
      "total time: 0.0270646\n",
      "./IN/graf_20_12.txt\n",
      "total time: 0.0671638\n",
      "./IN/graf_20_17.txt\n",
      "total time: 0.192391\n",
      "./IN/graf_30_10.txt\n",
      "total time: 30.0325\n",
      "./IN/graf_30_20.txt\n",
      "total time: 66.9888\n"
     ]
    }
   ],
   "source": [
    "for set in sets:\n",
    "    \n",
    "    size = set[\"size\"]\n",
    "    \n",
    "    for instance in set[\"instances\"]:\n",
    "        \n",
    "        !echo \"./IN/graf_{size}_{instance}.txt\"\n",
    "        !cmake-build-debug/pdp --source \"./IN/graf_{size}_{instance}.txt\""
   ]
  }
 ],
 "metadata": {
  "interpreter": {
   "hash": "916dbcbb3f70747c44a77c7bcd40155683ae19c65e1c03b4aa3499c5328201f1"
  },
  "kernelspec": {
   "display_name": "Python 3.8.10 64-bit",
   "name": "python3"
  },
  "language_info": {
   "codemirror_mode": {
    "name": "ipython",
    "version": 3
   },
   "file_extension": ".py",
   "mimetype": "text/x-python",
   "name": "python",
   "nbconvert_exporter": "python",
   "pygments_lexer": "ipython3",
   "version": "3.8.10"
  }
 },
 "nbformat": 4,
 "nbformat_minor": 5
}
